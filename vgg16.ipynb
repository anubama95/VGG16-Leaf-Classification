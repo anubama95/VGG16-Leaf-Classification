{
 "cells": [
  {
   "cell_type": "code",
   "execution_count": 1,
   "metadata": {
    "colab": {
     "base_uri": "https://localhost:8080/",
     "height": 428
    },
    "colab_type": "code",
    "id": "v6TMkIy7tkl9",
    "outputId": "a58ab648-f617-4494-a063-fbe52cffaa4a"
   },
   "outputs": [
    {
     "name": "stderr",
     "output_type": "stream",
     "text": [
      "Using TensorFlow backend.\n"
     ]
    }
   ],
   "source": [
    "from keras.applications import VGG16\n",
    "vgg_conv = VGG16(weights='imagenet', include_top=False, input_shape=(224, 224, 3))"
   ]
  },
  {
   "cell_type": "code",
   "execution_count": 2,
   "metadata": {
    "colab": {},
    "colab_type": "code",
    "id": "OaGV9GN_t01Y"
   },
   "outputs": [],
   "source": [
    "from keras.preprocessing.image import ImageDataGenerator"
   ]
  },
  {
   "cell_type": "code",
   "execution_count": 3,
   "metadata": {
    "colab": {
     "base_uri": "https://localhost:8080/",
     "height": 340
    },
    "colab_type": "code",
    "id": "P-BHAQcRt5b3",
    "outputId": "1f90087c-0654-4aee-b206-9b6484b89549",
    "scrolled": true
   },
   "outputs": [
    {
     "name": "stdout",
     "output_type": "stream",
     "text": [
      "<keras.engine.input_layer.InputLayer object at 0x7fc8c2489ed0> False\n",
      "<keras.layers.convolutional.Conv2D object at 0x7fc8c89d0850> False\n",
      "<keras.layers.convolutional.Conv2D object at 0x7fc8c1e23450> False\n",
      "<keras.layers.pooling.MaxPooling2D object at 0x7fc8c15e5190> False\n",
      "<keras.layers.convolutional.Conv2D object at 0x7fc8c1e23f10> False\n",
      "<keras.layers.convolutional.Conv2D object at 0x7fc8c0588750> False\n",
      "<keras.layers.pooling.MaxPooling2D object at 0x7fc8c1e236d0> False\n",
      "<keras.layers.convolutional.Conv2D object at 0x7fc8c0597e90> False\n",
      "<keras.layers.convolutional.Conv2D object at 0x7fc8c059bd50> False\n",
      "<keras.layers.convolutional.Conv2D object at 0x7fc8c0530f10> False\n",
      "<keras.layers.pooling.MaxPooling2D object at 0x7fc8c248e0d0> False\n",
      "<keras.layers.convolutional.Conv2D object at 0x7fc8c0547e90> False\n",
      "<keras.layers.convolutional.Conv2D object at 0x7fc8c0558ed0> False\n",
      "<keras.layers.convolutional.Conv2D object at 0x7fc8c04e9710> False\n",
      "<keras.layers.pooling.MaxPooling2D object at 0x7fc8c0500bd0> False\n",
      "<keras.layers.convolutional.Conv2D object at 0x7fc8c0508650> True\n",
      "<keras.layers.convolutional.Conv2D object at 0x7fc8c0515910> True\n",
      "<keras.layers.convolutional.Conv2D object at 0x7fc8c04a7d90> True\n",
      "<keras.layers.pooling.MaxPooling2D object at 0x7fc8c04bcb10> True\n"
     ]
    }
   ],
   "source": [
    "for layer in vgg_conv.layers[:-4]:\n",
    "    layer.trainable = False\n",
    " \n",
    "for layer in vgg_conv.layers:\n",
    "    print(layer, layer.trainable)"
   ]
  },
  {
   "cell_type": "code",
   "execution_count": 4,
   "metadata": {
    "colab": {
     "base_uri": "https://localhost:8080/",
     "height": 462
    },
    "colab_type": "code",
    "id": "6p4ncawmt8cJ",
    "outputId": "00f2c3f2-b1b8-46b9-8be0-f23ddc87b07d"
   },
   "outputs": [
    {
     "name": "stdout",
     "output_type": "stream",
     "text": [
      "Model: \"sequential_1\"\n",
      "_________________________________________________________________\n",
      "Layer (type)                 Output Shape              Param #   \n",
      "=================================================================\n",
      "vgg16 (Model)                (None, 7, 7, 512)         14714688  \n",
      "_________________________________________________________________\n",
      "flatten_1 (Flatten)          (None, 25088)             0         \n",
      "_________________________________________________________________\n",
      "dense_1 (Dense)              (None, 1024)              25691136  \n",
      "_________________________________________________________________\n",
      "dense_2 (Dense)              (None, 512)               524800    \n",
      "_________________________________________________________________\n",
      "dropout_1 (Dropout)          (None, 512)               0         \n",
      "_________________________________________________________________\n",
      "dense_3 (Dense)              (None, 33)                16929     \n",
      "=================================================================\n",
      "Total params: 40,947,553\n",
      "Trainable params: 33,312,289\n",
      "Non-trainable params: 7,635,264\n",
      "_________________________________________________________________\n"
     ]
    }
   ],
   "source": [
    "from keras import models\n",
    "from keras import layers\n",
    "from keras import optimizers\n",
    " \n",
    "model = models.Sequential()\n",
    " \n",
    "model.add(vgg_conv)\n",
    " \n",
    "model.add(layers.Flatten())\n",
    "model.add(layers.Dense(1024, activation='relu'))\n",
    "model.add(layers.Dense(512, activation='relu'))\n",
    "model.add(layers.Dropout(0.25))\n",
    "model.add(layers.Dense(33, activation='softmax'))\n",
    " \n",
    "model.summary()"
   ]
  },
  {
   "cell_type": "code",
   "execution_count": 5,
   "metadata": {
    "colab": {},
    "colab_type": "code",
    "id": "U6zLwXpsuFao"
   },
   "outputs": [],
   "source": [
    "train_dir = '/home/asus/Desktop/Dataset_splits/train'\n",
    "validation_dir = '/home/asus/Desktop/Dataset_splits/validation'"
   ]
  },
  {
   "cell_type": "code",
   "execution_count": 6,
   "metadata": {
    "colab": {},
    "colab_type": "code",
    "id": "_jVOX4HcuffN"
   },
   "outputs": [],
   "source": [
    "import numpy as np\n",
    "from random import shuffle"
   ]
  },
  {
   "cell_type": "code",
   "execution_count": 7,
   "metadata": {
    "colab": {
     "base_uri": "https://localhost:8080/",
     "height": 51
    },
    "colab_type": "code",
    "id": "W1unEexmuifh",
    "outputId": "6c3e6aef-9ea3-4c53-e5b1-39827c02965e"
   },
   "outputs": [
    {
     "name": "stdout",
     "output_type": "stream",
     "text": [
      "Found 22110 images belonging to 33 classes.\n",
      "Found 4132 images belonging to 33 classes.\n"
     ]
    }
   ],
   "source": [
    "train_datagen = ImageDataGenerator(\n",
    "      rescale=1./255,\n",
    "    rotation_range=20,\n",
    "    width_shift_range=0.2,\n",
    "  height_shift_range=0.2,\n",
    "    horizontal_flip=True,\n",
    "   fill_mode='nearest'\n",
    ")\n",
    " \n",
    "validation_datagen = ImageDataGenerator(rescale=1./255)\n",
    " \n",
    "train_batchsize = 124\n",
    "val_batchsize = 20\n",
    " \n",
    "train_generator = train_datagen.flow_from_directory(\n",
    "        train_dir,\n",
    "        target_size=(224, 224),\n",
    "        batch_size=train_batchsize,\n",
    "        class_mode='categorical')\n",
    " \n",
    "validation_generator = validation_datagen.flow_from_directory(\n",
    "        validation_dir,\n",
    "        target_size=(224, 224),\n",
    "        batch_size=val_batchsize,\n",
    "        class_mode='categorical',\n",
    "        shuffle=True)"
   ]
  },
  {
   "cell_type": "code",
   "execution_count": 8,
   "metadata": {
    "colab": {
     "base_uri": "https://localhost:8080/",
     "height": 54
    },
    "colab_type": "code",
    "id": "FBjZnDhuyKY8",
    "outputId": "ffe6afc1-2554-491a-930f-0c08247ceff2"
   },
   "outputs": [
    {
     "name": "stdout",
     "output_type": "stream",
     "text": [
      "{'Corn_(maize)___Cercospora_leaf_spot Gray_leaf_spot': 0, 'Corn_(maize)___Common_rust_': 1, 'Corn_(maize)___healthy': 2, 'GD_Alternia': 3, 'GD_Deficiency': 4, 'GD_Healthy': 5, 'GD_Leaf_Blight': 6, 'GD_Rust': 7, 'GD_Spidermites': 8, 'GD_Toxicity': 9, 'GD_Webbloch': 10, 'Paddy_Bacterial_leaf_blight': 11, 'Paddy_Brown_spot': 12, 'Pepper__bell___Bacterial_spot': 13, 'Pepper__bell___healthy': 14, 'Potato___Early_blight': 15, 'Potato___Late_blight': 16, 'Potato___healthy': 17, 'Tomato_Bacterial_spot': 18, 'Tomato_Early_blight': 19, 'Tomato_Late_blight': 20, 'Tomato_Leaf_Mold': 21, 'Tomato_Septoria_leaf_spot': 22, 'Tomato_Spider_mites_Two_spotted_spider_mite': 23, 'Tomato__Target_Spot': 24, 'Tomato__Tomato_YellowLeaf__Curl_Virus': 25, 'Tomato__Tomato_mosaic_virus': 26, 'Tomato_healthy': 27, 'pomo_Alternaria_Alternata': 28, 'pomo_Anthracnose': 29, 'pomo_Bacterial_Blight': 30, 'pomo_Cercospora_LeafSpot': 31, 'pomo_Healthy_Leaves': 32}\n"
     ]
    }
   ],
   "source": [
    "print(train_generator.class_indices)"
   ]
  },
  {
   "cell_type": "code",
   "execution_count": 9,
   "metadata": {
    "colab": {
     "base_uri": "https://localhost:8080/",
     "height": 632
    },
    "colab_type": "code",
    "id": "oSNXPIj1yOJ3",
    "outputId": "56e6de14-86fc-450a-8e04-0c69aad7e8a9"
   },
   "outputs": [
    {
     "name": "stdout",
     "output_type": "stream",
     "text": [
      "Epoch 1/20\n",
      "179/178 [==============================] - 4025s 22s/step - loss: 1.3475 - acc: 0.5898 - val_loss: 0.5141 - val_acc: 0.7580\n",
      "Epoch 2/20\n",
      "179/178 [==============================] - 4677s 26s/step - loss: 0.6417 - acc: 0.7890 - val_loss: 0.8464 - val_acc: 0.7289\n",
      "Epoch 3/20\n",
      "179/178 [==============================] - 4423s 25s/step - loss: 0.4833 - acc: 0.8436 - val_loss: 0.9738 - val_acc: 0.8785\n",
      "Epoch 4/20\n",
      "179/178 [==============================] - 4335s 24s/step - loss: 0.3777 - acc: 0.8726 - val_loss: 0.1003 - val_acc: 0.8703\n",
      "Epoch 5/20\n",
      "179/178 [==============================] - 4295s 24s/step - loss: 0.3322 - acc: 0.8916 - val_loss: 0.2424 - val_acc: 0.9054\n",
      "Epoch 6/20\n",
      "179/178 [==============================] - 4903s 27s/step - loss: 0.2898 - acc: 0.9041 - val_loss: 0.3179 - val_acc: 0.9027\n",
      "Epoch 7/20\n",
      "179/178 [==============================] - 4932s 28s/step - loss: 0.2545 - acc: 0.9137 - val_loss: 0.1803 - val_acc: 0.9027\n",
      "Epoch 8/20\n",
      "179/178 [==============================] - 4016s 22s/step - loss: 0.2352 - acc: 0.9194 - val_loss: 0.1111 - val_acc: 0.8986\n",
      "Epoch 9/20\n",
      "179/178 [==============================] - 4596s 26s/step - loss: 0.2160 - acc: 0.9267 - val_loss: 0.2427 - val_acc: 0.9172\n",
      "Epoch 10/20\n",
      "179/178 [==============================] - 3996s 22s/step - loss: 0.2019 - acc: 0.9311 - val_loss: 0.1092 - val_acc: 0.9240\n",
      "Epoch 11/20\n",
      "179/178 [==============================] - 3997s 22s/step - loss: 0.1914 - acc: 0.9368 - val_loss: 0.2409 - val_acc: 0.9194\n",
      "Epoch 12/20\n",
      "179/178 [==============================] - 8090s 45s/step - loss: 0.1724 - acc: 0.9419 - val_loss: 0.7029 - val_acc: 0.8739\n",
      "Epoch 13/20\n",
      "179/178 [==============================] - 4004s 22s/step - loss: 0.1694 - acc: 0.9427 - val_loss: 0.0572 - val_acc: 0.9344\n",
      "Epoch 14/20\n",
      "179/178 [==============================] - 6202s 35s/step - loss: 0.1668 - acc: 0.9427 - val_loss: 0.2469 - val_acc: 0.9318\n",
      "Epoch 15/20\n",
      "179/178 [==============================] - 3982s 22s/step - loss: 0.1591 - acc: 0.9465 - val_loss: 0.0608 - val_acc: 0.9063\n",
      "Epoch 16/20\n",
      "179/178 [==============================] - 4712s 26s/step - loss: 0.1498 - acc: 0.9500 - val_loss: 0.1822 - val_acc: 0.9066\n",
      "Epoch 17/20\n",
      "179/178 [==============================] - 4606s 26s/step - loss: 0.1423 - acc: 0.9518 - val_loss: 0.5758 - val_acc: 0.8773\n",
      "Epoch 18/20\n",
      "179/178 [==============================] - 4491s 25s/step - loss: 0.1496 - acc: 0.9525 - val_loss: 0.1466 - val_acc: 0.9228\n",
      "Epoch 19/20\n",
      "179/178 [==============================] - 4199s 23s/step - loss: 0.1300 - acc: 0.9562 - val_loss: 0.0062 - val_acc: 0.9192\n",
      "Epoch 20/20\n",
      "179/178 [==============================] - 4444s 25s/step - loss: 0.1371 - acc: 0.9558 - val_loss: 0.0240 - val_acc: 0.9259\n"
     ]
    }
   ],
   "source": [
    "model.compile(loss='categorical_crossentropy',\n",
    "              optimizer=optimizers.RMSprop(lr=1e-4),\n",
    "              metrics=['acc'])\n",
    "\n",
    "history = model.fit_generator(\n",
    "      train_generator,\n",
    "      steps_per_epoch=train_generator.samples/train_generator.batch_size ,\n",
    "      epochs=20,\n",
    "      validation_data=validation_generator,\n",
    "      validation_steps=validation_generator.samples/validation_generator.batch_size,\n",
    "      verbose=1)"
   ]
  },
  {
   "cell_type": "code",
   "execution_count": 10,
   "metadata": {
    "colab": {},
    "colab_type": "code",
    "id": "SYg6lqaPyZ-i"
   },
   "outputs": [],
   "source": [
    "model.save('finalized_groundnnnut_disease.h5')"
   ]
  }
 ],
 "metadata": {
  "accelerator": "GPU",
  "colab": {
   "collapsed_sections": [],
   "name": "finalvgg trial.ipynb",
   "provenance": []
  },
  "kernelspec": {
   "display_name": "Python 3",
   "language": "python",
   "name": "python3"
  },
  "language_info": {
   "codemirror_mode": {
    "name": "ipython",
    "version": 3
   },
   "file_extension": ".py",
   "mimetype": "text/x-python",
   "name": "python",
   "nbconvert_exporter": "python",
   "pygments_lexer": "ipython3",
   "version": "3.7.4"
  }
 },
 "nbformat": 4,
 "nbformat_minor": 1
}
